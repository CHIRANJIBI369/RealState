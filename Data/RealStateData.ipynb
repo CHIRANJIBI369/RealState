{
 "cells": [
  {
   "cell_type": "markdown",
   "id": "8f153b1f-f2cc-4ad5-90d3-a2f8b9d9f334",
   "metadata": {},
   "source": [
    "## This is realstate data"
   ]
  },
  {
   "cell_type": "code",
   "execution_count": null,
   "id": "cfa5aa27-ace0-4702-9921-3fa4f0dcacef",
   "metadata": {},
   "outputs": [],
   "source": []
  }
 ],
 "metadata": {
  "kernelspec": {
   "display_name": "Python 3 (ipykernel)",
   "language": "python",
   "name": "python3"
  },
  "language_info": {
   "codemirror_mode": {
    "name": "ipython",
    "version": 3
   },
   "file_extension": ".py",
   "mimetype": "text/x-python",
   "name": "python",
   "nbconvert_exporter": "python",
   "pygments_lexer": "ipython3",
   "version": "3.12.3"
  }
 },
 "nbformat": 4,
 "nbformat_minor": 5
}
